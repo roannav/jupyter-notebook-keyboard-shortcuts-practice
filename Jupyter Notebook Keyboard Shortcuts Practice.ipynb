{
 "cells": [
  {
   "cell_type": "raw",
   "metadata": {},
   "source": [
    "Here's a simple Jupyter Notebook I made to practice keyboard shortcuts.   \n",
    "\n",
    "Enter or click in the cell: Edit mode (green outline around cell)\n",
    "Esc or click outside the cell: Command mode (blue outline around cell)\n",
    "\n",
    "Shift-Enter: Run the cell and select the cell below\n",
    "\n",
    "h: show all keyboard shortcuts\n",
    "f: find and replace\n",
    "s: save and checkpoint"
   ]
  },
  {
   "cell_type": "raw",
   "metadata": {},
   "source": [
    "Use keys r, m, and y, to change the cell to be raw, markup, or code.  I made this cell 'raw'"
   ]
  },
  {
   "cell_type": "markdown",
   "metadata": {},
   "source": [
    "I made this cell 'markup'"
   ]
  },
  {
   "cell_type": "code",
   "execution_count": null,
   "metadata": {},
   "outputs": [],
   "source": [
    "I made this cell 'code'.  So, of course, this is a syntax error!"
   ]
  },
  {
   "cell_type": "markdown",
   "metadata": {},
   "source": [
    "Headings need to be markup cells.  Use keys 1 through 6 to change the heading level."
   ]
  },
  {
   "cell_type": "markdown",
   "metadata": {},
   "source": [
    "\n",
    "# Heading 1"
   ]
  },
  {
   "cell_type": "markdown",
   "metadata": {},
   "source": [
    "## Heading 2"
   ]
  },
  {
   "cell_type": "markdown",
   "metadata": {},
   "source": [
    "### Heading 3"
   ]
  },
  {
   "cell_type": "markdown",
   "metadata": {},
   "source": [
    "#### Heading 4"
   ]
  },
  {
   "cell_type": "markdown",
   "metadata": {},
   "source": [
    "##### Heading 5"
   ]
  },
  {
   "cell_type": "markdown",
   "metadata": {},
   "source": [
    "###### Heading 6"
   ]
  },
  {
   "cell_type": "markdown",
   "metadata": {},
   "source": [
    "Use the next 4 cells (with numbers 1, 2, 3, and 4) to practice cut, copy, paste below, delete, and undo delete.  The keys for these functions are x, c, v, dd, and z respectively."
   ]
  },
  {
   "cell_type": "raw",
   "metadata": {},
   "source": [
    "1"
   ]
  },
  {
   "cell_type": "raw",
   "metadata": {},
   "source": [
    "2"
   ]
  },
  {
   "cell_type": "raw",
   "metadata": {},
   "source": [
    "3"
   ]
  },
  {
   "cell_type": "raw",
   "metadata": {},
   "source": [
    "4"
   ]
  },
  {
   "cell_type": "markdown",
   "metadata": {},
   "source": [
    "Use key a to insert new cell above.\n",
    "<br>Use key b to insert new cell below."
   ]
  },
  {
   "cell_type": "markdown",
   "metadata": {},
   "source": [
    "Use shift-m to merge all selected cells.  \n",
    "Shift-k or Shift-Up to include the cell above with the selected cells.\n",
    "Shift-j or Shift-Down to include the cell below with the selected cells.\n",
    "Use the following cells to practice."
   ]
  },
  {
   "cell_type": "raw",
   "metadata": {},
   "source": [
    "Hello"
   ]
  },
  {
   "cell_type": "raw",
   "metadata": {},
   "source": [
    "World"
   ]
  },
  {
   "cell_type": "markdown",
   "metadata": {},
   "source": [
    "shift-m to merge 1 selected cell with the *unselected* cell just below."
   ]
  },
  {
   "cell_type": "raw",
   "metadata": {},
   "source": [
    "Tea"
   ]
  },
  {
   "cell_type": "raw",
   "metadata": {},
   "source": []
  },
  {
   "cell_type": "raw",
   "metadata": {},
   "source": [
    "pot"
   ]
  },
  {
   "cell_type": "markdown",
   "metadata": {},
   "source": [
    "ctrl-shift-minus to split the cell.  \n",
    "<br>Make sure you are in edit mode (green ring around the cell), then it will split the cell at the location of the cursor.  However if you are in command mode (blue ring around the cell), and on Chrome browser, then that just changes the magnification of the whole web page."
   ]
  },
  {
   "cell_type": "markdown",
   "metadata": {},
   "source": [
    "Use lowercase letters l and o, to manipulate code line numbers and output.\n",
    "<br>l: toggle line numbers\n",
    "<br>o: toggle show/hide output"
   ]
  },
  {
   "cell_type": "code",
   "execution_count": null,
   "metadata": {},
   "outputs": [],
   "source": [
    "print(\"Apple\")\n",
    "print(\"Orange\")\n",
    "print(\"Guava\")"
   ]
  },
  {
   "cell_type": "markdown",
   "metadata": {},
   "source": [
    "Let's say you are running a long calculation and you want to stop it, then press ii to interrupt the kernel.  Try interrupting the following infinite loop..."
   ]
  },
  {
   "cell_type": "code",
   "execution_count": null,
   "metadata": {},
   "outputs": [],
   "source": [
    "i=0\n",
    "while True:\n",
    "    print(i, \"Oh no!\")\n",
    "    i += 1"
   ]
  },
  {
   "cell_type": "markdown",
   "metadata": {},
   "source": [
    "Press 00 (ie zero zero) to restart the kernel."
   ]
  },
  {
   "cell_type": "markdown",
   "metadata": {},
   "source": [
    "<b>Quiz</b>:  Here's a geeky Jupyter exercise.  Tell me what it spells out when you press the right keys to accomplish the following tasks in order.\n",
    " * show the help screen with the list of all keyboard shortcuts\n",
    " * add a new cell above the currently selected cell\n",
    " * copy the currently selected cell\n",
    " * move to the cell below\n",
    " \n",
    "The answer can be found by running the following code."
   ]
  },
  {
   "cell_type": "code",
   "execution_count": null,
   "metadata": {},
   "outputs": [],
   "source": [
    "\"sesBssGzaCkzsdsFss\".lower().replace(\"z\",\"h\",1).strip(\"fedbgzs\")"
   ]
  },
  {
   "cell_type": "raw",
   "metadata": {},
   "source": []
  }
 ],
 "metadata": {
  "kernelspec": {
   "display_name": "Python 3",
   "language": "python",
   "name": "python3"
  },
  "language_info": {
   "codemirror_mode": {
    "name": "ipython",
    "version": 3
   },
   "file_extension": ".py",
   "mimetype": "text/x-python",
   "name": "python",
   "nbconvert_exporter": "python",
   "pygments_lexer": "ipython3",
   "version": "3.6.6"
  }
 },
 "nbformat": 4,
 "nbformat_minor": 2
}
